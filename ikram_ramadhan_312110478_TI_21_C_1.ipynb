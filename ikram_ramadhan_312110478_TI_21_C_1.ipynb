{
  "nbformat": 4,
  "nbformat_minor": 0,
  "metadata": {
    "colab": {
      "provenance": []
    },
    "kernelspec": {
      "name": "python3",
      "display_name": "Python 3"
    },
    "language_info": {
      "name": "python"
    }
  },
  "cells": [
    {
      "cell_type": "code",
      "execution_count": null,
      "metadata": {
        "id": "a46tKE_Efl2g"
      },
      "outputs": [],
      "source": [
        "from stegano import lsb\n",
        "\n",
        "secret = lsb.hide(\"potoku.png\", \"Hi, my name ikraam ramadhan\")\n",
        "secret.save(\"potoku.png\")\n"
      ]
    },
    {
      "cell_type": "code",
      "source": [
        "from stegano import lsb\n",
        "\n",
        "print(lsb.reveal(\"potoku.png\"))"
      ],
      "metadata": {
        "colab": {
          "base_uri": "https://localhost:8080/"
        },
        "id": "BYp5q3E4Q_fS",
        "outputId": "d04ea90d-1dee-4162-e28c-00249d270f44"
      },
      "execution_count": null,
      "outputs": [
        {
          "output_type": "stream",
          "name": "stdout",
          "text": [
            "Hi, my name ikraam ramadhan\n"
          ]
        }
      ]
    }
  ]
}