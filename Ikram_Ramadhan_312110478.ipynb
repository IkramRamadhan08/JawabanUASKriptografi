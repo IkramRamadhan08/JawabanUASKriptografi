{
  "nbformat": 4,
  "nbformat_minor": 0,
  "metadata": {
    "colab": {
      "provenance": []
    },
    "kernelspec": {
      "name": "python3",
      "display_name": "Python 3"
    },
    "language_info": {
      "name": "python"
    }
  },
  "cells": [
    {
      "cell_type": "code",
      "execution_count": null,
      "metadata": {
        "colab": {
          "base_uri": "https://localhost:8080/"
        },
        "id": "oHEG_2TA2om2",
        "outputId": "e1cb3864-18f8-403e-d117-1413f0e7c662"
      },
      "outputs": [
        {
          "output_type": "stream",
          "name": "stdout",
          "text": [
            "Masukkan plaintext: RUSDI\n",
            "Masukkan kata kunci: CRUSH\n",
            "Hasil Enkripsi:  \u0011\u0007\u0006\u0017\u0001\n",
            "Hasil Dekripsi:  RUSDI\n"
          ]
        }
      ],
      "source": [
        "def encrypt(plaintext, key):\n",
        "    encrypted_text = \"\"\n",
        "    for i in range(len(plaintext)):\n",
        "        char = plaintext[i]\n",
        "        key_char = key[i % len(key)]\n",
        "        encrypted_text += chr(ord(char) ^ ord(key_char))\n",
        "    return encrypted_text\n",
        "\n",
        "def decrypt(ciphertext, key):\n",
        "    decrypted_text = \"\"\n",
        "    for i in range(len(ciphertext)):\n",
        "        char = ciphertext[i]\n",
        "        key_char = key[i % len(key)]\n",
        "        decrypted_text += chr(ord(char) ^ ord(key_char))\n",
        "    return decrypted_text\n",
        "\n",
        "def main():\n",
        "    plaintext = input(\"Masukkan plaintext: \")\n",
        "    key = input(\"Masukkan kata kunci: \")\n",
        "\n",
        "    # Enkripsi\n",
        "    ciphertext = encrypt(plaintext, key)\n",
        "    print(\"Hasil Enkripsi: \", ciphertext)\n",
        "\n",
        "    # Dekripsi\n",
        "    decrypted_text = decrypt(ciphertext, key)\n",
        "    print(\"Hasil Dekripsi: \", decrypted_text)\n",
        "\n",
        "if __name__ == \"__main__\":\n",
        "    main()\n"
      ]
    }
  ]
}